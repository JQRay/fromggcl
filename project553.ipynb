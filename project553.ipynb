{
  "nbformat": 4,
  "nbformat_minor": 0,
  "metadata": {
    "colab": {
      "provenance": [],
      "machine_shape": "hm",
      "gpuType": "A100",
      "authorship_tag": "ABX9TyP0rLVkUrkWECpMLWX8QCax",
      "include_colab_link": true
    },
    "kernelspec": {
      "name": "python3",
      "display_name": "Python 3"
    },
    "language_info": {
      "name": "python"
    },
    "accelerator": "GPU"
  },
  "cells": [
    {
      "cell_type": "markdown",
      "metadata": {
        "id": "view-in-github",
        "colab_type": "text"
      },
      "source": [
        "<a href=\"https://colab.research.google.com/github/JQRay/fromggcl/blob/main/project553.ipynb\" target=\"_parent\"><img src=\"https://colab.research.google.com/assets/colab-badge.svg\" alt=\"Open In Colab\"/></a>"
      ]
    },
    {
      "cell_type": "code",
      "execution_count": null,
      "metadata": {
        "colab": {
          "base_uri": "https://localhost:8080/"
        },
        "id": "_Ete-c_YKZV_",
        "outputId": "168187d4-4bfb-4092-b4e5-417e83415ebb"
      },
      "outputs": [
        {
          "output_type": "stream",
          "name": "stdout",
          "text": [
            "/bin/bash: line 1: nvidia-smi: command not found\n"
          ]
        }
      ],
      "source": [
        "\n",
        "#from google.colab import drive\n",
        "#drive.mount('/content/drive')\n"
      ]
    },
    {
      "cell_type": "code",
      "source": [
        "!cp -r /content/drive/MyDrive/553/a-multilabel-classification-framework-main /content\n"
      ],
      "metadata": {
        "id": "BS3Zt9XKKprC"
      },
      "execution_count": null,
      "outputs": []
    },
    {
      "cell_type": "code",
      "source": [],
      "metadata": {
        "id": "Sgix74Q-Wti7"
      },
      "execution_count": null,
      "outputs": []
    },
    {
      "cell_type": "code",
      "source": [
        "%cd /content/a-multilabel-classification-framework-main\n",
        "!ls\n",
        "import os\n",
        "\n",
        "# 更改文件权限\n",
        "os.chmod(\"/content/a-multilabel-classification-framework-main/get_data.sh\", 0o755)\n"
      ],
      "metadata": {
        "colab": {
          "base_uri": "https://localhost:8080/"
        },
        "id": "ofgJ4gBxN9f2",
        "outputId": "b662b8ad-4980-4629-8e11-0f40c7231964"
      },
      "execution_count": null,
      "outputs": [
        {
          "output_type": "stream",
          "name": "stdout",
          "text": [
            "/content/a-multilabel-classification-framework-main\n",
            "all-pairs.sh\t     get_algos.sh\t   mnist-ann.job      stl10-ann.job\n",
            "bin\t\t     get_data.job\t   mnist.job\t      stl10.job\n",
            "comparison-ann.sh    get_data.sh\t   parameters\t      subset_training_set2.sh\n",
            "comparison.sh\t     get_ground_truth.job  plotting\t      subset_training_set.sh\n",
            "config.sh\t     get_ground_truth.sh   random2_sd1.job    tools\n",
            "fashion-ann.job      gist-small-ann.job    random2_sd2_5.job  trevi-ann.job\n",
            "fashion.job\t     gist-small.job\t   random2_sd5.job    trevi.job\n",
            "fig\t\t     include\t\t   README.md\n",
            "generate_dataset2.R  lib\t\t   sift.job\n"
          ]
        }
      ]
    },
    {
      "cell_type": "code",
      "source": [
        "#!apt-get install python2\n",
        "#!python2 --version\n",
        "!./get_data.sh\n",
        "\n"
      ],
      "metadata": {
        "colab": {
          "base_uri": "https://localhost:8080/"
        },
        "id": "b5Oe0kTmOLxM",
        "outputId": "bed36686-9e49-4b30-a0ed-6bba040be70c"
      },
      "execution_count": null,
      "outputs": [
        {
          "output_type": "stream",
          "name": "stdout",
          "text": [
            "Downloading MNIST...\n",
            "--2024-04-24 18:03:56--  http://yann.lecun.com/exdb/mnist/train-images-idx3-ubyte.gz\n",
            "Resolving yann.lecun.com (yann.lecun.com)... 216.165.22.6\n",
            "Connecting to yann.lecun.com (yann.lecun.com)|216.165.22.6|:80... connected.\n",
            "HTTP request sent, awaiting response... 503 Service Unavailable\n",
            "2024-04-24 18:03:56 ERROR 503: Service Unavailable.\n",
            "\n",
            "--2024-04-24 18:03:56--  http://yann.lecun.com/exdb/mnist/train-labels-idx1-ubyte.gz\n",
            "Resolving yann.lecun.com (yann.lecun.com)... 216.165.22.6\n",
            "Connecting to yann.lecun.com (yann.lecun.com)|216.165.22.6|:80... connected.\n",
            "HTTP request sent, awaiting response... 503 Service Unavailable\n",
            "2024-04-24 18:03:56 ERROR 503: Service Unavailable.\n",
            "\n",
            "Extracting MNIST...\n",
            "\n",
            "gzip: raw_data/mnist/train-images-idx3-ubyte.gz: unexpected end of file\n",
            "\n",
            "gzip: raw_data/mnist/train-labels-idx1-ubyte.gz: unexpected end of file\n",
            "Converting MNIST...\n",
            "Traceback (most recent call last):\n",
            "  File \"tools/binary_converter.py\", line 5, in <module>\n",
            "    import numpy as np\n",
            "ImportError: No module named numpy\n",
            "Traceback (most recent call last):\n",
            "  File \"tools/binary_converter.py\", line 5, in <module>\n",
            "    import numpy as np\n",
            "ImportError: No module named numpy\n",
            "Traceback (most recent call last):\n",
            "  File \"tools/binary_converter.py\", line 5, in <module>\n",
            "    import numpy as np\n",
            "ImportError: No module named numpy\n",
            "rm: cannot remove 'data/mnist/tmp.bin': No such file or directory\n",
            "Generating random2_sd0_5 ...\n",
            "Writing random2_sd0_5 to csv...\n",
            "\n",
            "Execution halted\n",
            "Traceback (most recent call last):\n",
            "  File \"tools/binary_converter.py\", line 5, in <module>\n",
            "    import numpy as np\n",
            "ImportError: No module named numpy\n",
            "Traceback (most recent call last):\n",
            "  File \"tools/binary_converter.py\", line 5, in <module>\n",
            "    import numpy as np\n",
            "ImportError: No module named numpy\n",
            "Traceback (most recent call last):\n",
            "  File \"tools/binary_converter.py\", line 5, in <module>\n",
            "    import numpy as np\n",
            "ImportError: No module named numpy\n",
            "Traceback (most recent call last):\n",
            "  File \"tools/binary_converter.py\", line 5, in <module>\n",
            "    import numpy as np\n",
            "ImportError: No module named numpy\n",
            "Traceback (most recent call last):\n",
            "  File \"tools/binary_converter.py\", line 5, in <module>\n",
            "    import numpy as np\n",
            "ImportError: No module named numpy\n",
            "Traceback (most recent call last):\n",
            "  File \"tools/binary_converter.py\", line 5, in <module>\n",
            "    import numpy as np\n",
            "ImportError: No module named numpy\n",
            "Traceback (most recent call last):\n",
            "  File \"tools/binary_converter.py\", line 5, in <module>\n",
            "    import numpy as np\n",
            "ImportError: No module named numpy\n",
            "Traceback (most recent call last):\n",
            "  File \"tools/binary_converter.py\", line 5, in <module>\n",
            "    import numpy as np\n",
            "ImportError: No module named numpy\n",
            "Traceback (most recent call last):\n",
            "  File \"tools/binary_converter.py\", line 5, in <module>\n",
            "    import numpy as np\n",
            "ImportError: No module named numpy\n",
            "Traceback (most recent call last):\n",
            "  File \"tools/binary_converter.py\", line 5, in <module>\n",
            "    import numpy as np\n",
            "ImportError: No module named numpy\n",
            "Traceback (most recent call last):\n",
            "  File \"tools/binary_converter.py\", line 5, in <module>\n",
            "    import numpy as np\n",
            "ImportError: No module named numpy\n",
            "Traceback (most recent call last):\n",
            "  File \"tools/binary_converter.py\", line 5, in <module>\n",
            "    import numpy as np\n",
            "ImportError: No module named numpy\n",
            "Downloading fashion...\n",
            "--2024-04-24 18:04:33--  http://fashion-mnist.s3-website.eu-central-1.amazonaws.com/train-images-idx3-ubyte.gz\n",
            "Resolving fashion-mnist.s3-website.eu-central-1.amazonaws.com (fashion-mnist.s3-website.eu-central-1.amazonaws.com)... 52.219.140.112, 52.219.169.220, 52.219.171.176, ...\n",
            "Connecting to fashion-mnist.s3-website.eu-central-1.amazonaws.com (fashion-mnist.s3-website.eu-central-1.amazonaws.com)|52.219.140.112|:80... connected.\n",
            "HTTP request sent, awaiting response... 200 OK\n",
            "Length: 26421880 (25M) [binary/octet-stream]\n",
            "Saving to: ‘raw_data/fashion/train-images-idx3-ubyte.gz’\n",
            "\n",
            "raw_data/fashion/tr 100%[===================>]  25.20M  14.2MB/s    in 1.8s    \n",
            "\n",
            "2024-04-24 18:04:35 (14.2 MB/s) - ‘raw_data/fashion/train-images-idx3-ubyte.gz’ saved [26421880/26421880]\n",
            "\n",
            "--2024-04-24 18:04:35--  http://fashion-mnist.s3-website.eu-central-1.amazonaws.com/train-labels-idx1-ubyte.gz\n",
            "Resolving fashion-mnist.s3-website.eu-central-1.amazonaws.com (fashion-mnist.s3-website.eu-central-1.amazonaws.com)... 52.219.140.112, 52.219.169.220, 52.219.171.176, ...\n",
            "Connecting to fashion-mnist.s3-website.eu-central-1.amazonaws.com (fashion-mnist.s3-website.eu-central-1.amazonaws.com)|52.219.140.112|:80... connected.\n",
            "HTTP request sent, awaiting response... 200 OK\n",
            "Length: 29515 (29K) [binary/octet-stream]\n",
            "Saving to: ‘raw_data/fashion/train-labels-idx1-ubyte.gz’\n",
            "\n",
            "raw_data/fashion/tr 100%[===================>]  28.82K  --.-KB/s    in 0.1s    \n",
            "\n",
            "2024-04-24 18:04:36 (257 KB/s) - ‘raw_data/fashion/train-labels-idx1-ubyte.gz’ saved [29515/29515]\n",
            "\n",
            "Extracting fashion...\n",
            "gzip: raw_data/fashion/train-images-idx3-ubyte already exists; do you wish to overwrite (y or n)? ^C\n"
          ]
        }
      ]
    },
    {
      "cell_type": "code",
      "source": [
        "import os\n",
        "\n",
        "# 下载 get-pip.py 文件\n",
        "os.system(\"curl https://bootstrap.pypa.io/pip/2.7/get-pip.py -o get-pip.py\")\n",
        "\n",
        "# 安装 pip\n",
        "os.system(\"sudo python2 get-pip.py\")\n",
        "\n"
      ],
      "metadata": {
        "colab": {
          "base_uri": "https://localhost:8080/"
        },
        "id": "MYKo7kFYR95i",
        "outputId": "8c36a149-6dfd-4975-802a-81365ff2c1eb"
      },
      "execution_count": null,
      "outputs": [
        {
          "output_type": "execute_result",
          "data": {
            "text/plain": [
              "0"
            ]
          },
          "metadata": {},
          "execution_count": 26
        }
      ]
    },
    {
      "cell_type": "code",
      "source": [
        "!python2 -m pip install numpy\n"
      ],
      "metadata": {
        "colab": {
          "base_uri": "https://localhost:8080/"
        },
        "id": "l0O7dzNbS3lW",
        "outputId": "2ee1f91c-3312-41e3-c6d5-18ce5bfeb998"
      },
      "execution_count": null,
      "outputs": [
        {
          "output_type": "stream",
          "name": "stdout",
          "text": [
            "Collecting numpy\n",
            "  Downloading numpy-1.16.6-cp27-cp27mu-manylinux1_x86_64.whl (17.0 MB)\n",
            "\u001b[K     |████████████████████████████████| 17.0 MB 608 kB/s \n",
            "\u001b[?25hInstalling collected packages: numpy\n",
            "Successfully installed numpy-1.16.6\n"
          ]
        }
      ]
    },
    {
      "cell_type": "code",
      "source": [
        "!./get_data.sh"
      ],
      "metadata": {
        "colab": {
          "base_uri": "https://localhost:8080/"
        },
        "id": "1Q7BIseZTFjs",
        "outputId": "86899a14-2e73-4c4b-f321-3aca1e9e8d05"
      },
      "execution_count": null,
      "outputs": [
        {
          "output_type": "stream",
          "name": "stdout",
          "text": [
            "Traceback (most recent call last):\n",
            "  File \"tools/binary_converter.py\", line 217, in <module>\n",
            "    csv_to_binary(inf, outf)\n",
            "  File \"tools/binary_converter.py\", line 21, in csv_to_binary\n",
            "    for i, row in enumerate(datareader):\n",
            "KeyboardInterrupt\n",
            "Traceback (most recent call last):\n",
            "  File \"tools/binary_converter.py\", line 217, in <module>\n",
            "    csv_to_binary(inf, outf)\n",
            "  File \"tools/binary_converter.py\", line 24, in csv_to_binary\n",
            "    _write_floats(floats, outfile)\n",
            "  File \"tools/binary_converter.py\", line 191, in _write_floats\n",
            "    float_arr = array.array('d', floats)\n",
            "KeyboardInterrupt\n",
            "^C\n"
          ]
        }
      ]
    }
  ]
}